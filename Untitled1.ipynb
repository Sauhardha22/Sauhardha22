{
  "nbformat": 4,
  "nbformat_minor": 0,
  "metadata": {
    "colab": {
      "provenance": [],
      "authorship_tag": "ABX9TyN4AAzYcj/+uhvY9IDWZJxb",
      "include_colab_link": true
    },
    "kernelspec": {
      "name": "python3",
      "display_name": "Python 3"
    },
    "language_info": {
      "name": "python"
    }
  },
  "cells": [
    {
      "cell_type": "markdown",
      "metadata": {
        "id": "view-in-github",
        "colab_type": "text"
      },
      "source": [
        "<a href=\"https://colab.research.google.com/github/Sauhardha22/Sauhardha22/blob/main/Untitled1.ipynb\" target=\"_parent\"><img src=\"https://colab.research.google.com/assets/colab-badge.svg\" alt=\"Open In Colab\"/></a>"
      ]
    },
    {
      "cell_type": "code",
      "execution_count": null,
      "metadata": {
        "id": "tHXP2DmzIN6-",
        "colab": {
          "base_uri": "https://localhost:8080/"
        },
        "outputId": "83593f8a-e25a-464c-e9f8-cd20be2da738"
      },
      "outputs": [
        {
          "output_type": "execute_result",
          "data": {
            "text/plain": [
              "False"
            ]
          },
          "metadata": {},
          "execution_count": 1
        }
      ],
      "source": [
        "int_value = 5\n",
        "isinstance(int_value, float)"
      ]
    },
    {
      "cell_type": "code",
      "source": [],
      "metadata": {
        "id": "ueo9FIhIQr2L"
      },
      "execution_count": null,
      "outputs": []
    },
    {
      "cell_type": "code",
      "source": [],
      "metadata": {
        "id": "ogLLMZ9sQtLM"
      },
      "execution_count": null,
      "outputs": []
    },
    {
      "cell_type": "code",
      "source": [
        "float_value = 2e1\n",
        "print(float_value)\n",
        "print(type(float_value))\n",
        "print(isinstance(float_value,float))\n",
        "print(id(float_value))\n",
        "\n",
        "float_value = 10.0\n",
        "print(float_value)\n",
        "print(id(float_value))\n"
      ],
      "metadata": {
        "colab": {
          "base_uri": "https://localhost:8080/"
        },
        "id": "OX6wLpWcP1kr",
        "outputId": "844ff152-f48f-428f-f633-4e34ea0b631f"
      },
      "execution_count": null,
      "outputs": [
        {
          "output_type": "stream",
          "name": "stdout",
          "text": [
            "20.0\n",
            "<class 'float'>\n",
            "True\n",
            "140231397102160\n",
            "10.0\n",
            "140231397106768\n"
          ]
        }
      ]
    },
    {
      "cell_type": "code",
      "source": [
        "complex_value = 1+2j\n",
        "print(complex_value)\n",
        "\n",
        "print( '-------')\n",
        "complex_value = complex(1,2.9)\n",
        "print(complex_value)\n",
        "print(type(complex_value))\n",
        "complex(\"1+2j\")\n",
        "print(complex_value.real)\n",
        "\n",
        "print(complex_value.imag)"
      ],
      "metadata": {
        "colab": {
          "base_uri": "https://localhost:8080/"
        },
        "id": "UqobCCrQRfJo",
        "outputId": "b76a4cc4-c41b-4c39-da7f-121209699e81"
      },
      "execution_count": null,
      "outputs": [
        {
          "output_type": "stream",
          "name": "stdout",
          "text": [
            "(1+2j)\n",
            "-------\n",
            "(1+2.9j)\n",
            "<class 'complex'>\n",
            "1.0\n",
            "2.9\n"
          ]
        }
      ]
    },
    {
      "cell_type": "code",
      "source": [
        "complex(0,0)\n"
      ],
      "metadata": {
        "colab": {
          "base_uri": "https://localhost:8080/"
        },
        "id": "gA_jHhTJUKBW",
        "outputId": "4309781d-70ce-4765-b867-90caf4a9bb4c"
      },
      "execution_count": null,
      "outputs": [
        {
          "output_type": "execute_result",
          "data": {
            "text/plain": [
              "0j"
            ]
          },
          "metadata": {},
          "execution_count": 4
        }
      ]
    },
    {
      "cell_type": "code",
      "source": [
        "a = float(input('input yr no.'))\n",
        "b = float(input('input yr no.'))\n",
        "\n",
        "if (a > b):\n",
        "    print(\" a is greater than b\")\n",
        "elif (a == b):\n",
        "    print(\" a is equal to b\")\n",
        "else:\n",
        "    print(\"a is less than b\")"
      ],
      "metadata": {
        "colab": {
          "base_uri": "https://localhost:8080/",
          "height": 380
        },
        "id": "TuJd8kknWDjG",
        "outputId": "56edd006-358c-4909-9319-a3a047f88779"
      },
      "execution_count": null,
      "outputs": [
        {
          "output_type": "error",
          "ename": "KeyboardInterrupt",
          "evalue": "ignored",
          "traceback": [
            "\u001b[0;31m---------------------------------------------------------------------------\u001b[0m",
            "\u001b[0;31mKeyboardInterrupt\u001b[0m                         Traceback (most recent call last)",
            "\u001b[0;32m<ipython-input-5-c96efd3e1980>\u001b[0m in \u001b[0;36m<cell line: 1>\u001b[0;34m()\u001b[0m\n\u001b[0;32m----> 1\u001b[0;31m \u001b[0ma\u001b[0m \u001b[0;34m=\u001b[0m \u001b[0mfloat\u001b[0m\u001b[0;34m(\u001b[0m\u001b[0minput\u001b[0m\u001b[0;34m(\u001b[0m\u001b[0;34m'input yr no.'\u001b[0m\u001b[0;34m)\u001b[0m\u001b[0;34m)\u001b[0m\u001b[0;34m\u001b[0m\u001b[0;34m\u001b[0m\u001b[0m\n\u001b[0m\u001b[1;32m      2\u001b[0m \u001b[0mb\u001b[0m \u001b[0;34m=\u001b[0m \u001b[0mfloat\u001b[0m\u001b[0;34m(\u001b[0m\u001b[0minput\u001b[0m\u001b[0;34m(\u001b[0m\u001b[0;34m'input yr no.'\u001b[0m\u001b[0;34m)\u001b[0m\u001b[0;34m)\u001b[0m\u001b[0;34m\u001b[0m\u001b[0;34m\u001b[0m\u001b[0m\n\u001b[1;32m      3\u001b[0m \u001b[0;34m\u001b[0m\u001b[0m\n\u001b[1;32m      4\u001b[0m \u001b[0;32mif\u001b[0m \u001b[0;34m(\u001b[0m\u001b[0ma\u001b[0m \u001b[0;34m>\u001b[0m \u001b[0mb\u001b[0m\u001b[0;34m)\u001b[0m\u001b[0;34m:\u001b[0m\u001b[0;34m\u001b[0m\u001b[0;34m\u001b[0m\u001b[0m\n\u001b[1;32m      5\u001b[0m     \u001b[0mprint\u001b[0m\u001b[0;34m(\u001b[0m\u001b[0;34m\" a is greater than b\"\u001b[0m\u001b[0;34m)\u001b[0m\u001b[0;34m\u001b[0m\u001b[0;34m\u001b[0m\u001b[0m\n",
            "\u001b[0;32m/usr/local/lib/python3.10/dist-packages/ipykernel/kernelbase.py\u001b[0m in \u001b[0;36mraw_input\u001b[0;34m(self, prompt)\u001b[0m\n\u001b[1;32m    849\u001b[0m                 \u001b[0;34m\"raw_input was called, but this frontend does not support input requests.\"\u001b[0m\u001b[0;34m\u001b[0m\u001b[0;34m\u001b[0m\u001b[0m\n\u001b[1;32m    850\u001b[0m             )\n\u001b[0;32m--> 851\u001b[0;31m         return self._input_request(str(prompt),\n\u001b[0m\u001b[1;32m    852\u001b[0m             \u001b[0mself\u001b[0m\u001b[0;34m.\u001b[0m\u001b[0m_parent_ident\u001b[0m\u001b[0;34m,\u001b[0m\u001b[0;34m\u001b[0m\u001b[0;34m\u001b[0m\u001b[0m\n\u001b[1;32m    853\u001b[0m             \u001b[0mself\u001b[0m\u001b[0;34m.\u001b[0m\u001b[0m_parent_header\u001b[0m\u001b[0;34m,\u001b[0m\u001b[0;34m\u001b[0m\u001b[0;34m\u001b[0m\u001b[0m\n",
            "\u001b[0;32m/usr/local/lib/python3.10/dist-packages/ipykernel/kernelbase.py\u001b[0m in \u001b[0;36m_input_request\u001b[0;34m(self, prompt, ident, parent, password)\u001b[0m\n\u001b[1;32m    893\u001b[0m             \u001b[0;32mexcept\u001b[0m \u001b[0mKeyboardInterrupt\u001b[0m\u001b[0;34m:\u001b[0m\u001b[0;34m\u001b[0m\u001b[0;34m\u001b[0m\u001b[0m\n\u001b[1;32m    894\u001b[0m                 \u001b[0;31m# re-raise KeyboardInterrupt, to truncate traceback\u001b[0m\u001b[0;34m\u001b[0m\u001b[0;34m\u001b[0m\u001b[0m\n\u001b[0;32m--> 895\u001b[0;31m                 \u001b[0;32mraise\u001b[0m \u001b[0mKeyboardInterrupt\u001b[0m\u001b[0;34m(\u001b[0m\u001b[0;34m\"Interrupted by user\"\u001b[0m\u001b[0;34m)\u001b[0m \u001b[0;32mfrom\u001b[0m \u001b[0;32mNone\u001b[0m\u001b[0;34m\u001b[0m\u001b[0;34m\u001b[0m\u001b[0m\n\u001b[0m\u001b[1;32m    896\u001b[0m             \u001b[0;32mexcept\u001b[0m \u001b[0mException\u001b[0m \u001b[0;32mas\u001b[0m \u001b[0me\u001b[0m\u001b[0;34m:\u001b[0m\u001b[0;34m\u001b[0m\u001b[0;34m\u001b[0m\u001b[0m\n\u001b[1;32m    897\u001b[0m                 \u001b[0mself\u001b[0m\u001b[0;34m.\u001b[0m\u001b[0mlog\u001b[0m\u001b[0;34m.\u001b[0m\u001b[0mwarning\u001b[0m\u001b[0;34m(\u001b[0m\u001b[0;34m\"Invalid Message:\"\u001b[0m\u001b[0;34m,\u001b[0m \u001b[0mexc_info\u001b[0m\u001b[0;34m=\u001b[0m\u001b[0;32mTrue\u001b[0m\u001b[0;34m)\u001b[0m\u001b[0;34m\u001b[0m\u001b[0;34m\u001b[0m\u001b[0m\n",
            "\u001b[0;31mKeyboardInterrupt\u001b[0m: Interrupted by user"
          ]
        }
      ]
    },
    {
      "cell_type": "code",
      "source": [
        "single_quot_str = 'sauhardha'\n",
        "double_quot_str = \"sauhardha\"\n",
        "\n",
        "print(\"Single quote:\", single_quot_str)\n",
        "print(\"double quote:\", double_quot_str)\n",
        "\n",
        "assert single_quot_str == double_quot_str, \"String are differnet\""
      ],
      "metadata": {
        "id": "lREI2oPRYzpu"
      },
      "execution_count": null,
      "outputs": []
    },
    {
      "cell_type": "code",
      "source": [
        "multi_double_str = \"\"\"\n",
        "        Hi Iam learning python\n",
        "\"\"\"\n",
        "print(\"Multi Line String:\")\n",
        "print(multi_double_str)"
      ],
      "metadata": {
        "id": "TLQpG7JPcz7f"
      },
      "execution_count": null,
      "outputs": []
    },
    {
      "cell_type": "code",
      "source": [
        "val = \"** Hi I'm learning string creation .**\"\n",
        "print(val)\n",
        "\n",
        "a = 'string'\n",
        "b = 'concat'\n",
        "output= a+b\n",
        "print(output)"
      ],
      "metadata": {
        "id": "8zoNz330dtQi"
      },
      "execution_count": null,
      "outputs": []
    },
    {
      "cell_type": "code",
      "source": [
        "indexing_str = \"String Indexin\"\n",
        "print(indexing_str)\n",
        "indexing_str[0]\n",
        "indexing_str[5]\n",
        "indexing_str[13]\n",
        "indexing_str[-1]"
      ],
      "metadata": {
        "id": "mcrGrA8fXh7z"
      },
      "execution_count": null,
      "outputs": []
    },
    {
      "cell_type": "code",
      "source": [
        "indexing_str[0:3:1]"
      ],
      "metadata": {
        "id": "nytpdwfTXiQh"
      },
      "execution_count": null,
      "outputs": []
    },
    {
      "cell_type": "code",
      "source": [
        "indexing_str[-14:-11:1]"
      ],
      "metadata": {
        "id": "tkDKKfZFcI7H"
      },
      "execution_count": null,
      "outputs": []
    },
    {
      "cell_type": "code",
      "source": [
        "indexing_str[::2]\n",
        "indexing_str[::3]"
      ],
      "metadata": {
        "id": "-NIAXW9tctUa"
      },
      "execution_count": null,
      "outputs": []
    },
    {
      "cell_type": "code",
      "source": [
        "indexing_str[2::-1]"
      ],
      "metadata": {
        "id": "yprV4H3Md4_Z"
      },
      "execution_count": null,
      "outputs": []
    },
    {
      "cell_type": "code",
      "source": [
        "indexing_str[-1:-4:-1]\n",
        "indexing_str[::-1]\n"
      ],
      "metadata": {
        "id": "9CT9oRMhe8Nr"
      },
      "execution_count": null,
      "outputs": []
    },
    {
      "cell_type": "code",
      "source": [
        "str_method = \"Iam practicing work at home\"\n",
        "str_method.upper()\n",
        "str_method.lower()"
      ],
      "metadata": {
        "id": "-Df3wN-LiOt3"
      },
      "execution_count": null,
      "outputs": []
    },
    {
      "cell_type": "code",
      "source": [
        "str_method.split(\" \")"
      ],
      "metadata": {
        "id": "cFEOzvd8iuMW"
      },
      "execution_count": null,
      "outputs": []
    },
    {
      "cell_type": "code",
      "source": [
        "str_method.replace(\"practicing\",\"notprac\")"
      ],
      "metadata": {
        "id": "uHoSNl38jQWD"
      },
      "execution_count": null,
      "outputs": []
    },
    {
      "cell_type": "code",
      "source": [
        "str_method.endswith(\"home\")"
      ],
      "metadata": {
        "id": "XcUb1qq7j8T2"
      },
      "execution_count": null,
      "outputs": []
    },
    {
      "cell_type": "code",
      "source": [
        "str_method.isdigit()"
      ],
      "metadata": {
        "id": "ablW99RKkfc2"
      },
      "execution_count": null,
      "outputs": []
    },
    {
      "cell_type": "code",
      "source": [
        "str_method.strip(\"home\")"
      ],
      "metadata": {
        "id": "Ei5QVSg9lRXm"
      },
      "execution_count": null,
      "outputs": []
    },
    {
      "cell_type": "code",
      "source": [
        "user_name = input(\"enter user name: \")\n",
        "user_age = int(input(\"enter your age: \"))\n",
        "print(user_name)\n",
        "print(user_age)\n",
        "print(\"Hello \" + user_name + \".\" + \" Your age is \" + str(user_age))\n",
        "print(f\"hello {user_name}. Your age is {user_age}\")"
      ],
      "metadata": {
        "id": "AW6ItjZdlYyc"
      },
      "execution_count": null,
      "outputs": []
    },
    {
      "cell_type": "code",
      "source": [
        "user_name = input(\"enter user name: \")\n",
        "user_age = int(input(\"enter your age: \"))\n",
        "print(\"hello\"{user_name}.format(user_name))"
      ],
      "metadata": {
        "id": "nvrAXsmUnFAZ"
      },
      "execution_count": null,
      "outputs": []
    },
    {
      "cell_type": "code",
      "source": [
        "empty_dict ={ }"
      ],
      "metadata": {
        "id": "UUoB3o4HG49X"
      },
      "execution_count": null,
      "outputs": []
    },
    {
      "cell_type": "code",
      "source": [
        "print(type(empty_dict))"
      ],
      "metadata": {
        "id": "m9V4ccoRIqio"
      },
      "execution_count": null,
      "outputs": []
    },
    {
      "cell_type": "code",
      "source": [
        "simple_dict = {\n",
        "\n",
        "    \"mango\":4 ,\n",
        "    \"kiwi\":10 ,\n",
        "    \"orange\" :2\n",
        "}\n",
        "\n",
        "print(simple_dict)"
      ],
      "metadata": {
        "id": "gVSC2i1NJLW4"
      },
      "execution_count": null,
      "outputs": []
    },
    {
      "cell_type": "code",
      "source": [
        "nested_dict = {\n",
        "    \"fruits\" : {\"mango\": 2, \"apple\": 10}, \"drinks\" : {\"coke\":2, \"juice:\":20}\n",
        "}\n",
        "\n",
        "print(nested_dict)"
      ],
      "metadata": {
        "id": "7JkwXdUGJkE2"
      },
      "execution_count": null,
      "outputs": []
    },
    {
      "cell_type": "code",
      "source": [
        "fruit_count = {\n",
        "\n",
        "               'mango': 100,\n",
        "               'banana' : 10,\n",
        "               'orange' : 200,\n",
        "               'kiwi' : 20\n",
        "}\n",
        "\n",
        "print(fruit_count)\n",
        "print(fruit_count['mango'])\n",
        "print(fruit_count['kiwi'])"
      ],
      "metadata": {
        "id": "mwkjA-twKY8Z"
      },
      "execution_count": null,
      "outputs": []
    },
    {
      "cell_type": "code",
      "source": [
        "food_counts = {\n",
        "\n",
        "        'fruits' : {'mango': 100, 'banana': 10, 'orange': 200},\n",
        "        'drinks' : {'coke': 20, \"redbull\": 30, \"lassi\": 10}\n",
        "}\n",
        "print(food_counts)\n",
        "print(food_counts['drinks'] ['coke'])"
      ],
      "metadata": {
        "id": "ICSuwXJoMhUe"
      },
      "execution_count": null,
      "outputs": []
    },
    {
      "cell_type": "code",
      "source": [
        "simplee_dict = {\n",
        "    \"mango\" : 1,\n",
        "    \"apple\" :2\n",
        "}\n",
        "simplee_dict[\"mango\"] = 100\n",
        "print(simplee_dict)\n",
        "\n",
        "print(list(simplee_dict.keys()))\n",
        "print(list(simplee_dict.values()))"
      ],
      "metadata": {
        "id": "kd32qRqcNxoj"
      },
      "execution_count": null,
      "outputs": []
    },
    {
      "cell_type": "code",
      "source": [
        "simplee_dict.items()"
      ],
      "metadata": {
        "id": "CphwPNabObzJ"
      },
      "execution_count": null,
      "outputs": []
    },
    {
      "cell_type": "code",
      "source": [
        "simplee_dict.update({'mango' : 10})\n",
        "simplee_dict.update({'watermelon': 20})\n",
        "simplee_dict\n",
        "simplee_dict.pop('watermelon')\n",
        "simplee_dict"
      ],
      "metadata": {
        "id": "7QoepumrQPYu"
      },
      "execution_count": null,
      "outputs": []
    },
    {
      "cell_type": "code",
      "source": [
        "for x in simplee_dict:\n",
        "  print(x)"
      ],
      "metadata": {
        "id": "OLXBteFlSDFR"
      },
      "execution_count": null,
      "outputs": []
    },
    {
      "cell_type": "code",
      "source": [
        "for x in simplee_dict.values():\n",
        "  print(x)\\\n",
        "\n",
        "for key in simplee_dict:\n",
        "    print(simplee_dict[key])"
      ],
      "metadata": {
        "id": "I-gUc9U6SkNp"
      },
      "execution_count": null,
      "outputs": []
    },
    {
      "cell_type": "code",
      "source": [
        "for key, value in simplee_dict.items() :\n",
        "    print(f'key = {key}')\n",
        "    print(f'values = {value}')"
      ],
      "metadata": {
        "id": "d5-35NA0UEdI"
      },
      "execution_count": null,
      "outputs": []
    },
    {
      "cell_type": "code",
      "source": [
        "sample_list = [10,20,30]\n",
        "\n",
        "sample_dict = {idx:item for idx, item in enumerate(sample_list)}\n",
        "print(sample_dict)"
      ],
      "metadata": {
        "id": "ZokBA0axVgdr"
      },
      "execution_count": null,
      "outputs": []
    },
    {
      "cell_type": "code",
      "source": [
        "empt_set = set()\n",
        "print(type(empt_set))\n",
        "\n",
        "simple_set ={'item','1','2','3'}\n",
        "print(type(simple_set))\n",
        "len(simple_set)\n"
      ],
      "metadata": {
        "id": "4v4jBoZBXQar"
      },
      "execution_count": null,
      "outputs": []
    },
    {
      "cell_type": "code",
      "source": [
        "number = int(input(\"enter your number:\"))\n",
        "if (number >= 0):\n",
        "    print(f'{number} is positive')\n",
        "else:\n",
        "     print(f'{number} is negative')"
      ],
      "metadata": {
        "id": "uy-y7-KLQuwa"
      },
      "execution_count": null,
      "outputs": []
    },
    {
      "cell_type": "code",
      "source": [
        "number1 = int(input(\"enter the number:\"))\n",
        "number2 = int(input(\"enter the number:\"))\n"
      ],
      "metadata": {
        "id": "WReAUHGLQvIY"
      },
      "execution_count": null,
      "outputs": []
    },
    {
      "cell_type": "code",
      "source": [
        "a = 20\n",
        "b = 30\n",
        "\n",
        "print(f'{a} is greater') if a>b else print(f'{b} is greater')"
      ],
      "metadata": {
        "id": "kujUB0WOaZmT"
      },
      "execution_count": null,
      "outputs": []
    },
    {
      "cell_type": "code",
      "source": [
        "i = 0\n",
        "while i<5:\n",
        "    print(\"Index (i): \", i)\n",
        "    if i == 3:\n",
        "        print('Continue')\n",
        "        i = i + 1\n",
        "        continue\n",
        "    print('hello world')\n",
        "    i = i + 1\n"
      ],
      "metadata": {
        "id": "nLvURg7td3Mq"
      },
      "execution_count": null,
      "outputs": []
    },
    {
      "cell_type": "code",
      "source": [
        "numbers = [10,20,5,7,2,9,13,100]\n",
        "evenno =[]\n",
        "\n",
        "for i in numbers :\n",
        "    if i%2==0:\n",
        "        print(f\"{i} is even number\")\n",
        "        evenno.append(i)\n",
        "\n",
        "print(f'{numbers}')\n",
        "print(\" evennumbers: \", evenno)\n"
      ],
      "metadata": {
        "id": "m7kFPZzbfoeo"
      },
      "execution_count": null,
      "outputs": []
    },
    {
      "cell_type": "code",
      "source": [
        "for i in range(5):\n",
        "    for j in range(5):\n",
        "        while j<=i:\n",
        "\n",
        "\n"
      ],
      "metadata": {
        "id": "g-6SxIL_jgx5"
      },
      "execution_count": null,
      "outputs": []
    },
    {
      "cell_type": "code",
      "source": [
        "for i in range(5):\n",
        "    print('*' * (i+1))"
      ],
      "metadata": {
        "id": "eLLNDqwBnAcc"
      },
      "execution_count": null,
      "outputs": []
    },
    {
      "cell_type": "code",
      "source": [
        "for num1 in range(1,3):\n",
        "    for num2 in range(1,3):\n",
        "        for num3 in range(1,3):\n",
        "            print(num1,num2,num3)"
      ],
      "metadata": {
        "id": "VkOpMRDQoO06"
      },
      "execution_count": null,
      "outputs": []
    },
    {
      "cell_type": "code",
      "source": [
        "def greater():\n",
        "    a = int(input(\"enter 1st no= \"))\n",
        "    b = int(input(\"enter 2nd no= \"))\n",
        "    if(a>b):\n",
        "        print(f'{a} is greater')\n",
        "    elif(a==b):\n",
        "        print(\"both are equal\")\n",
        "    else:\n",
        "        print(f'{b} is greater')\n",
        "greater()"
      ],
      "metadata": {
        "id": "2txVIEN9lPiS"
      },
      "execution_count": null,
      "outputs": []
    },
    {
      "cell_type": "code",
      "source": [
        "def greaterr(a,b):\n",
        "    if(a>b):\n",
        "        print(f'{a} is greater')\n",
        "    elif(a==b):\n",
        "        print(\"both are equal\")\n",
        "    else:\n",
        "        print(f'{b} is greater')\n",
        "greaterr(1,2)"
      ],
      "metadata": {
        "id": "5nvEmwX8o4sD"
      },
      "execution_count": null,
      "outputs": []
    },
    {
      "cell_type": "code",
      "source": [
        "def greaterrr():\n",
        "  a = int(input(\"Enter number 1: \"))\n",
        "  b = int(input(\"Enter number 2: \"))\n",
        "  if(a>b):\n",
        "        return a\n",
        "  elif(a==b):\n",
        "       return \"equal\"\n",
        "  else:\n",
        "        return b\n",
        "\n",
        "msg = greaterrr()\n",
        "if msg == \"equal\":\n",
        "    print(\"both are equal\")\n",
        "else:\n",
        "    print(f'{msg} is greater')"
      ],
      "metadata": {
        "id": "V2PZ9NM6t8Oi"
      },
      "execution_count": null,
      "outputs": []
    },
    {
      "cell_type": "code",
      "source": [
        "def whogreater(a,b):\n",
        "  if(a>b):\n",
        "        return a\n",
        "  elif(a==b):\n",
        "       return \"equal\"\n",
        "  else:\n",
        "        return b\n",
        "\n",
        "msg = whogreater(1,2)\n",
        "if msg == \"equal\":\n",
        "    print(\"both are equal\")\n",
        "else:\n",
        "    print(f'{msg} is greater')"
      ],
      "metadata": {
        "id": "Ygnvl1Cewf77"
      },
      "execution_count": null,
      "outputs": []
    },
    {
      "cell_type": "code",
      "source": [
        "def func(b ,c, *a):\n",
        "    print(a)\n",
        "    print(type(a))\n",
        "\n",
        "    func(1,2,3,4,5,6,7,8,9)\n"
      ],
      "metadata": {
        "id": "YNCBJiK9vjWI"
      },
      "execution_count": null,
      "outputs": []
    },
    {
      "cell_type": "code",
      "source": [
        "def multiplication(*args):\n",
        "     newlist=list(args)\n",
        "\n",
        "     multiplied=1\n",
        "     for i in newlist:\n",
        "        multiplied= i* multiplied\n",
        "     return multiplied\n",
        "multiplication(1,2,3,4,5,6)\n",
        "\n",
        "\n",
        "\n",
        "\n"
      ],
      "metadata": {
        "id": "UnnTY1iL0MXl"
      },
      "execution_count": null,
      "outputs": []
    },
    {
      "cell_type": "code",
      "source": [
        "def myfunction(**kwargs) :\n",
        "    for key, value in kwargs.items():\n",
        "        print(f'{key}: {value}')\n",
        "\n",
        "myfunction(name=\"sauhardha\", age=\"22\")"
      ],
      "metadata": {
        "id": "eGz_JvoP58kc"
      },
      "execution_count": null,
      "outputs": []
    },
    {
      "cell_type": "code",
      "source": [
        "def fun():\n",
        "    print(\"hello iam recursion\")\n",
        "    fun()\n",
        "fun()"
      ],
      "metadata": {
        "id": "ivVzWiLYLlug"
      },
      "execution_count": null,
      "outputs": []
    },
    {
      "cell_type": "code",
      "source": [
        "def factorial(n):\n",
        "    #recursion base\n",
        "    if (n==0 or n==1) :\n",
        "        return 1\n",
        "    else:\n",
        "        return n * factorial(n-1)\n",
        "print(factorial(5))"
      ],
      "metadata": {
        "id": "gAJ4gQCONCnQ"
      },
      "execution_count": null,
      "outputs": []
    },
    {
      "cell_type": "code",
      "source": [
        "a = 0\n",
        "b = 0\n",
        "def fibonacci():\n",
        "    a = 0\n",
        "    b = 1\n",
        "    c = a + b\n",
        "    a=b\n",
        "    b=c\n",
        "    fibonacci()\n",
        "fibonacci()\n",
        "\n"
      ],
      "metadata": {
        "id": "R5zfEqagPVN_"
      },
      "execution_count": null,
      "outputs": []
    },
    {
      "cell_type": "code",
      "source": [
        "class Vehicle:\n",
        "    is_electric = False\n",
        "car = Vehicle()\n",
        "\n",
        "print(Vehicle.is_electric)\n",
        "print(car.is_electric)\n",
        "Vehicle.is_electric = True\n",
        "\n",
        "print(Vehicle.is_electric)\n",
        "print(car.is_electric)"
      ],
      "metadata": {
        "id": "lSjYgHqBSqRs"
      },
      "execution_count": null,
      "outputs": []
    },
    {
      "cell_type": "code",
      "source": [
        "class vehicle:\n",
        "\n",
        "    def __init__(self, attribute):\n",
        "        self.instance_attribute = attribute\n",
        "car = vehicle(\"test\")\n",
        "car.instance_attribute"
      ],
      "metadata": {
        "id": "OaNrlj-OYvR7",
        "colab": {
          "base_uri": "https://localhost:8080/",
          "height": 35
        },
        "outputId": "dd361d2a-d2d8-439f-fb93-bea15567d381"
      },
      "execution_count": null,
      "outputs": [
        {
          "output_type": "execute_result",
          "data": {
            "text/plain": [
              "'test'"
            ],
            "application/vnd.google.colaboratory.intrinsic+json": {
              "type": "string"
            }
          },
          "metadata": {},
          "execution_count": 8
        }
      ]
    },
    {
      "cell_type": "code",
      "source": [
        "class Ve:\n",
        "    is_electric = False\n",
        "    @classmethod\n",
        "    def display_car_type(cls):\n",
        "        print(f'Ques: Is Vehicle elcetric?\\nAnswer: {cls.is_electric}')\n",
        "\n",
        "Ve.display_car_type()"
      ],
      "metadata": {
        "colab": {
          "base_uri": "https://localhost:8080/"
        },
        "id": "FOPy5oPAZz1S",
        "outputId": "dac63fdd-e970-4a63-e550-2fc683004472"
      },
      "execution_count": null,
      "outputs": [
        {
          "output_type": "stream",
          "name": "stdout",
          "text": [
            "Ques: Is Vehicle elcetric?\n",
            "Answer: False\n"
          ]
        }
      ]
    },
    {
      "cell_type": "code",
      "source": [
        "class Vehicle:\n",
        "    def __init__(self, colour):\n",
        "        self.colour = colour\n",
        "\n",
        "    def display_color(self):\n",
        "        print(f'Car colour is: {self.colour}')\n",
        "\n",
        "car1= Vehicle('red')\n",
        "car2= Vehicle('blue')\n",
        "\n",
        "car1.display_color()\n",
        "car2.display_color()"
      ],
      "metadata": {
        "colab": {
          "base_uri": "https://localhost:8080/"
        },
        "id": "y3xfJVJodBnO",
        "outputId": "4c6246ac-cb25-48eb-9ce3-604d0a97f4e7"
      },
      "execution_count": null,
      "outputs": [
        {
          "output_type": "stream",
          "name": "stdout",
          "text": [
            "Car colour is: red\n",
            "Car colour is: blue\n"
          ]
        }
      ]
    },
    {
      "cell_type": "code",
      "source": [
        "class Mathss:\n",
        "    pi = 3.14\n",
        "\n",
        "    def __init__(self,radius=1):\n",
        "        self.radius = radius\n",
        "\n",
        "    def get_circumference(self):\n",
        "        print(f'circumference is:{2* self.pi * self.radius}')\n",
        "\n",
        "smallCircle = Mathss(2)\n",
        "bigCircle = Mathss(4)\n",
        "\n",
        "smallCircle.get_circumference()\n",
        "bigCircle.get_circumference()"
      ],
      "metadata": {
        "colab": {
          "base_uri": "https://localhost:8080/"
        },
        "id": "Y4_NkyEpgQ2k",
        "outputId": "18a779da-9499-46f8-b609-32fb58346819"
      },
      "execution_count": null,
      "outputs": [
        {
          "output_type": "stream",
          "name": "stdout",
          "text": [
            "circumference is:12.56\n",
            "circumference is:25.12\n"
          ]
        }
      ]
    },
    {
      "cell_type": "code",
      "source": [
        "# Create private variables\n",
        "\n",
        "class Vehicle:\n",
        "  def __init__(self, color):\n",
        "    # create private attributes\n",
        "    self.__vehicle_color = color\n",
        "\n",
        "  def access_private(self):\n",
        "    return self.__vehicle_color\n",
        "\n",
        "  # create private methods\n",
        "  def __reset_color(self, color):\n",
        "    print('Colour Reseting')\n",
        "    self.__vehicle_color = color\n",
        "\n",
        "  # access private methods inside class\n",
        "  def reset_display_color(self, color = None):\n",
        "    self.__reset_color(color)\n",
        "    print(f\"Colour after reseting is: {self.__vehicle_color}\")\n",
        "\n",
        "\n",
        "# create object\n",
        "car = Vehicle('red')\n",
        "## access private attributes outside of class\n",
        "#car.__vehicle_color\n",
        "\n",
        "## access private attributes via public methods\n",
        "private_attr = car.access_private()\n",
        "print(private_attr)\n",
        "\n",
        "## access private methods\n",
        "# for reset color\n",
        "new_color = 'black'\n",
        "\n",
        "car.reset_display_color(new_color)"
      ],
      "metadata": {
        "id": "buRol_JTk1zY",
        "colab": {
          "base_uri": "https://localhost:8080/"
        },
        "outputId": "52fd3954-f20b-4a3f-a520-56cb2c48f330"
      },
      "execution_count": null,
      "outputs": [
        {
          "output_type": "stream",
          "name": "stdout",
          "text": [
            "red\n",
            "Colour Reseting\n",
            "Colour after reseting is: black\n"
          ]
        }
      ]
    },
    {
      "cell_type": "code",
      "source": [
        "## Base class\n",
        "class Vehicle:\n",
        "  def __init__(self, name, color):\n",
        "    self.name = name\n",
        "    self.color = color\n",
        "\n",
        "  def start(self):\n",
        "    print(f\"The {self.color}  {self.name} is starting.\")\n",
        "\n",
        "  def stop(self):\n",
        "    print(f\"The {self.color} {self.name} is stopping.\")\n",
        "## Derived class Car\n",
        "\n",
        "class Car(Vehicle):\n",
        "  def __init__(self, name, color, fuel_type):\n",
        "    super().__init__(name, color) ## super is used to call base class constructor\n",
        "    self.fuel_type = fuel_type\n",
        "\n",
        "  def drive(self):\n",
        "    print(f\"The {self.color} {self.name} is driving.\")\n",
        "\n",
        "## Derived class Bike\n",
        "class Bike(Vehicle):\n",
        "  def __init__(self, name, color, engine_capacity):\n",
        "    super().__init__(name, color) ## super is used to call base class constructor\n",
        "    self.engine_capacity = engine_capacity\n",
        "\n",
        "  def ride(self):\n",
        "    print(f\"The {self.color} {self.name} is being ridden.\")\n",
        "\n",
        "# Creating instances of derived classes\n",
        "car = Car(\"Car\", \"Red\", \"Petrol\")\n",
        "bike = Bike(\"Motorcycle\", \"Blue\", 250)\n",
        "\n",
        "# Accessing attributes and calling methods\n",
        "print(car.name)  # Output: Car\n",
        "print(bike.color)  # Output: Blue\n",
        "\n",
        "car.start()  # Output: The Red Car is starting.\n",
        "bike.stop()  # Output: The Blue Motorcycle has stopped."
      ],
      "metadata": {
        "colab": {
          "base_uri": "https://localhost:8080/"
        },
        "id": "cp7nRXGflo0y",
        "outputId": "e5a91c3d-01e2-41c1-cd8a-35aaa56ac560"
      },
      "execution_count": null,
      "outputs": [
        {
          "output_type": "stream",
          "name": "stdout",
          "text": [
            "Car\n",
            "Blue\n",
            "The Red  Car is starting.\n",
            "The Blue Motorcycle is stopping.\n"
          ]
        }
      ]
    },
    {
      "cell_type": "code",
      "source": [
        "#Base class 1\n",
        "class Engine:\n",
        "    def start(self):\n",
        "        print(\"The engine is starting\")\n",
        "\n",
        "    def stop(self):\n",
        "        print(\"The engine is stopping\")\n",
        "\n",
        "#Base class 2:\n",
        "class Wheels:\n",
        "    def rotate(self):\n",
        "        print(\"The wheels are rotating.\")\n",
        "\n",
        "#Derived Class:\n",
        "\n",
        "class Car(Engine,Wheels):\n",
        "    def drive(self):\n",
        "        print('The car is being driven.')\n",
        "\n",
        "\n",
        "car= Car()\n",
        "car.start()\n",
        "car.stop()\n"
      ],
      "metadata": {
        "colab": {
          "base_uri": "https://localhost:8080/"
        },
        "id": "vKXwO4TOq4nY",
        "outputId": "74792f27-83bb-4189-a8ec-ac52b8fa1ac9"
      },
      "execution_count": null,
      "outputs": [
        {
          "output_type": "stream",
          "name": "stdout",
          "text": [
            "The engine is starting\n",
            "The engine is stopping\n"
          ]
        }
      ]
    },
    {
      "cell_type": "code",
      "source": [
        "class Vehicle:\n",
        "    def __init__(self, name):\n",
        "        self.name = name\n",
        "\n",
        "    def start(self):\n",
        "        print(f'The {self.name} is starting')\n",
        "\n",
        "class Car(Vehicle):\n",
        "    def drive(self):\n",
        "        print(f'The {self.name} is being driven')\n",
        "\n",
        "class SportsCar(Car):\n",
        "    def accelerate(self):\n",
        "        print(f'The {self.name} is accelerating')\n",
        "\n",
        "sports_car = SportsCar('ferari')\n",
        "\n",
        "sports_car.start()\n",
        "sports_car.drive()\n",
        "sports_car.accelerate()"
      ],
      "metadata": {
        "colab": {
          "base_uri": "https://localhost:8080/"
        },
        "id": "uKroTSgqsLhz",
        "outputId": "f7a279e1-8df6-4748-d001-09b0ef873e5a"
      },
      "execution_count": null,
      "outputs": [
        {
          "output_type": "stream",
          "name": "stdout",
          "text": [
            "The ferari is starting\n",
            "The ferari is being driven\n",
            "The ferari is accelerating\n"
          ]
        }
      ]
    },
    {
      "cell_type": "code",
      "source": [
        "## write your program here\n",
        "class Car:\n",
        "  def __init__(self, name, color):\n",
        "    self.name = name\n",
        "    self.color = color\n",
        "\n",
        "  def vehicle_type(self):\n",
        "    print(f'{self.name} {self.color} is Electric type')\n",
        "\n",
        "class Truck:\n",
        "  def __init__(self, name, color):\n",
        "    self.name = name\n",
        "    self.color = color\n",
        "\n",
        "  def vehicle_type(self):\n",
        "    print(f'{self.name} {self.color} is Diesel type')\n",
        "\n",
        "class Bike:\n",
        "  def __init__(self, name, color):\n",
        "    self.name = name\n",
        "    self.color = color\n",
        "\n",
        "  def vehicle_type(self):\n",
        "    print(f'{self.name} {self.color} is Petrol type')\n",
        "\n",
        "# Instantiate object for 3 classes\n",
        "car = Car('car', 'red')\n",
        "truck = Truck('truck', 'black')\n",
        "bike = Bike('bike', 'green')\n",
        "\n",
        "# Method Invoke\n",
        "for obj in (car, truck, bike):\n",
        "  obj.vehicle_type()\n",
        "  print(\"---------------\")"
      ],
      "metadata": {
        "colab": {
          "base_uri": "https://localhost:8080/"
        },
        "id": "Rzna0O8wxfC4",
        "outputId": "0eb1c645-2abd-45eb-df46-c5675a58f609"
      },
      "execution_count": null,
      "outputs": [
        {
          "output_type": "stream",
          "name": "stdout",
          "text": [
            "car red is Electric type\n",
            "---------------\n",
            "truck black is Diesel type\n",
            "---------------\n",
            "bike green is Petrol type\n",
            "---------------\n"
          ]
        }
      ]
    },
    {
      "cell_type": "code",
      "source": [
        "\n",
        "\n",
        "# Q. Write a python program to create abstract class with method start(). Create another 2 class Car and Truck inherited from Abstract Class with the implementation of abstract method.\n",
        "\n",
        "\n",
        "# HINT:\n",
        "# Create a Abstract Base Class named \"Vehicle\"\n",
        "\n",
        "from abc import ABC, abstractmethod\n",
        "\n",
        "class Vehicle(ABC):\n",
        "\n",
        "  @abstractmethod\n",
        "  def start(self):\n",
        "    pass\n",
        "\n",
        "class Car(Vehicle):\n",
        "\n",
        "    def start(self):\n",
        "        print(\"Car is starting\")\n",
        "\n",
        "car = Car()\n",
        "car.start()\n",
        "\n"
      ],
      "metadata": {
        "id": "2gsPSYYp2obB",
        "colab": {
          "base_uri": "https://localhost:8080/"
        },
        "outputId": "bc4d9eb3-a2b7-4b7c-f7ba-a4307a7afd12"
      },
      "execution_count": null,
      "outputs": [
        {
          "output_type": "stream",
          "name": "stdout",
          "text": [
            "Car is starting\n"
          ]
        }
      ]
    },
    {
      "cell_type": "code",
      "source": [
        "class Vehicle:\n",
        "    def __init__(self, name, color, price, num_tiers):\n",
        "        self.name = name\n",
        "        self.color = color\n",
        "        self.num_tiers = num_tiers\n",
        "        self.price= price\n",
        "\n",
        "    def __str__(self):\n",
        "        return f\"{self.color} {self.name} has price = {self.price}\"\n",
        "\n",
        "    def __add__(self, other):\n",
        "        return self.price + other.price\n",
        "\n",
        "    def __gt__(self,other):\n",
        "        if (self.price > other.price):\n",
        "            return True\n",
        "\n",
        "        else:\n",
        "            return False\n",
        "\n",
        "    def __del__(self):\n",
        "        print(\"Object is destroyed\")\n",
        "\n",
        "    def __call__(self):\n",
        "        print(\"iam from call magic method\")\n",
        "\n",
        "\n",
        "car =Vehicle(\"car\", \"red\", 1000, 4)\n",
        "bus =Vehicle(\"bus\", \"green\", 2000, 8)\n",
        "\n",
        "print(car)\n",
        "print(bus)\n",
        "\n",
        "print(str(car))\n",
        "print(str(bus))\n",
        "\n",
        "print(car + bus)\n",
        "\n",
        "print(car > bus)\n",
        "\n",
        "car()\n",
        "\n",
        "\n"
      ],
      "metadata": {
        "colab": {
          "base_uri": "https://localhost:8080/"
        },
        "id": "-aaAX882zhf0",
        "outputId": "bb06a926-50a3-4d4b-cc25-adddeec94ecd"
      },
      "execution_count": null,
      "outputs": [
        {
          "output_type": "stream",
          "name": "stdout",
          "text": [
            "red car has price = 1000\n",
            "green bus has price = 2000\n",
            "red car has price = 1000\n",
            "green bus has price = 2000\n",
            "3000\n",
            "False\n",
            "iam from call magic method\n"
          ]
        }
      ]
    },
    {
      "cell_type": "code",
      "source": [
        "!touch demo.text\n",
        "\n",
        "\n"
      ],
      "metadata": {
        "id": "3QGSsOLO9_nS"
      },
      "execution_count": null,
      "outputs": []
    },
    {
      "cell_type": "code",
      "source": [
        "filename =\"demo.text\"\n",
        "file_obj = open('demo.text', 'r')\n",
        "file_obj = open('demo.text', 'w')\n",
        "file_obj = open('demo.text', 'a')\n",
        "file_obj = open('demo1.txt', 'x')\n"
      ],
      "metadata": {
        "colab": {
          "base_uri": "https://localhost:8080/",
          "height": 200
        },
        "id": "IbEsSbcY8y05",
        "outputId": "5a695311-9cab-4ec9-d5f5-013817308165"
      },
      "execution_count": null,
      "outputs": [
        {
          "output_type": "error",
          "ename": "FileExistsError",
          "evalue": "ignored",
          "traceback": [
            "\u001b[0;31m---------------------------------------------------------------------------\u001b[0m",
            "\u001b[0;31mFileExistsError\u001b[0m                           Traceback (most recent call last)",
            "\u001b[0;32m<ipython-input-22-ad0881a29a5e>\u001b[0m in \u001b[0;36m<cell line: 5>\u001b[0;34m()\u001b[0m\n\u001b[1;32m      3\u001b[0m \u001b[0mfile_obj\u001b[0m \u001b[0;34m=\u001b[0m \u001b[0mopen\u001b[0m\u001b[0;34m(\u001b[0m\u001b[0;34m'demo.text'\u001b[0m\u001b[0;34m,\u001b[0m \u001b[0;34m'w'\u001b[0m\u001b[0;34m)\u001b[0m\u001b[0;34m\u001b[0m\u001b[0;34m\u001b[0m\u001b[0m\n\u001b[1;32m      4\u001b[0m \u001b[0mfile_obj\u001b[0m \u001b[0;34m=\u001b[0m \u001b[0mopen\u001b[0m\u001b[0;34m(\u001b[0m\u001b[0;34m'demo.text'\u001b[0m\u001b[0;34m,\u001b[0m \u001b[0;34m'a'\u001b[0m\u001b[0;34m)\u001b[0m\u001b[0;34m\u001b[0m\u001b[0;34m\u001b[0m\u001b[0m\n\u001b[0;32m----> 5\u001b[0;31m \u001b[0mfile_obj\u001b[0m \u001b[0;34m=\u001b[0m \u001b[0mopen\u001b[0m\u001b[0;34m(\u001b[0m\u001b[0;34m'demo1.txt'\u001b[0m\u001b[0;34m,\u001b[0m \u001b[0;34m'x'\u001b[0m\u001b[0;34m)\u001b[0m\u001b[0;34m\u001b[0m\u001b[0;34m\u001b[0m\u001b[0m\n\u001b[0m",
            "\u001b[0;31mFileExistsError\u001b[0m: [Errno 17] File exists: 'demo1.txt'"
          ]
        }
      ]
    },
    {
      "cell_type": "code",
      "source": [
        "!touch demo.txt\n"
      ],
      "metadata": {
        "id": "FIULZwzZA8yZ"
      },
      "execution_count": null,
      "outputs": []
    },
    {
      "cell_type": "code",
      "source": [
        "with open('demo.text', 'r') as file_obj:\n",
        "    file_content = file_obj.read()\n",
        "print(file_content)"
      ],
      "metadata": {
        "colab": {
          "base_uri": "https://localhost:8080/"
        },
        "id": "wDSZ6e1aANTX",
        "outputId": "86428b6a-9285-4c6c-a5d5-00e0000a439c"
      },
      "execution_count": null,
      "outputs": [
        {
          "output_type": "stream",
          "name": "stdout",
          "text": [
            "iam learning pythonnnnnn\n",
            "iam learning\n",
            "iam suhoala\n"
          ]
        }
      ]
    },
    {
      "cell_type": "code",
      "source": [
        "with open('demo.text', 'r') as file_obj:\n",
        "    file_content = file_obj.readline()\n",
        "print(file_content)"
      ],
      "metadata": {
        "colab": {
          "base_uri": "https://localhost:8080/"
        },
        "id": "JeypY-I7Bgp5",
        "outputId": "5e33d284-caed-44b0-d678-38f470200694"
      },
      "execution_count": null,
      "outputs": [
        {
          "output_type": "stream",
          "name": "stdout",
          "text": [
            "iam learning pythonnnnnn\n",
            "\n"
          ]
        }
      ]
    },
    {
      "cell_type": "code",
      "source": [
        "with open('demo.text', 'r') as file_obj:\n",
        "    file_content = file_obj.readlines()\n",
        "print(file_content)"
      ],
      "metadata": {
        "colab": {
          "base_uri": "https://localhost:8080/"
        },
        "id": "lVqNve34BqN9",
        "outputId": "9a57c726-b542-4331-9d2b-23afe1c66b81"
      },
      "execution_count": null,
      "outputs": [
        {
          "output_type": "stream",
          "name": "stdout",
          "text": [
            "['iam learning pythonnnnnn\\n', 'iam learning\\n', 'iam suhoala']\n"
          ]
        }
      ]
    },
    {
      "cell_type": "code",
      "source": [
        "!touch demo2.txt\n"
      ],
      "metadata": {
        "id": "HeFhzW_aC0__"
      },
      "execution_count": null,
      "outputs": []
    },
    {
      "cell_type": "code",
      "source": [
        "with open('demo2.txt', 'r') as file_obj:\n",
        "        file_cont = file_obj.readline()\n",
        "print(file_cont)\n"
      ],
      "metadata": {
        "colab": {
          "base_uri": "https://localhost:8080/"
        },
        "id": "5Lr4XnHkDGII",
        "outputId": "f3cd3562-35ef-448e-c976-3eb4294eb232"
      },
      "execution_count": null,
      "outputs": [
        {
          "output_type": "stream",
          "name": "stdout",
          "text": [
            "my name is sauharh\n"
          ]
        }
      ]
    },
    {
      "cell_type": "code",
      "source": [
        "!touch demu.text\n",
        "file_name = 'test.txt'\n",
        "with open( file_name, 'w') as file_obj:\n",
        "    file_obj.write(\"iam python sauharha\")\n",
        "\n",
        "with open('test.txt', 'r') as file_obj:\n",
        "        file_cont = file_obj.readline()\n",
        "print(file_cont)\n",
        "\n",
        "with open('test.txt', 'a') as file_obj:\n",
        "    file_obj.write(\"\\n who is reading\")\n",
        "\n",
        "!cat test.txt\n",
        "\n",
        "\n"
      ],
      "metadata": {
        "id": "YgA6L0--DpIj",
        "colab": {
          "base_uri": "https://localhost:8080/"
        },
        "outputId": "ea6adb59-995e-4306-e76e-5dd3ce3169bf"
      },
      "execution_count": null,
      "outputs": [
        {
          "output_type": "stream",
          "name": "stdout",
          "text": [
            "iam python sauharha\n",
            "iam python sauharha\n",
            " who is reading"
          ]
        }
      ]
    },
    {
      "cell_type": "code",
      "source": [
        "import os;\n",
        "\n",
        "filename = 'test.txt'\n",
        "if os.path.exists(filename):\n",
        "    os.remove(filename)\n",
        "\n",
        "else:\n",
        "    print('No file')"
      ],
      "metadata": {
        "colab": {
          "base_uri": "https://localhost:8080/"
        },
        "id": "LTMgQeXDIZrU",
        "outputId": "de6ccbb7-d603-40b5-df40-bb829c5f4417"
      },
      "execution_count": null,
      "outputs": [
        {
          "output_type": "stream",
          "name": "stdout",
          "text": [
            "No file\n"
          ]
        }
      ]
    },
    {
      "cell_type": "code",
      "source": [
        "import sqlite3\n",
        "db_name = 'users.db'\n",
        "conn = sqlite3.connect(db_name)\n",
        "print(\"Opened database successfully\")\n",
        "\n",
        "\n",
        "conn.execute(\"\"\" CREATE TABLE student\n",
        "            (\n",
        "              ID\t\t\tINT               PRIMARY KEY    NOT NULL,\n",
        "              NAME\t\t\tVARCHAR(100)\t\t\t\t\t NOT NULL,\n",
        "              AGE\t\t\tINT\t\t\t\t\t\t\t     NOT NULL,\n",
        "              ADDRESS\t\tTEXT,\n",
        "              SALARY\t\tFLOAT\n",
        "\n",
        "            )\n",
        "             \"\"\")\n",
        "\n",
        "conn.execute(\"\"\" INSERT INTO\n",
        "            student (ID,NAME,AGE,ADDRESS,SALARY) VALUES (1, 'RAM', 32, 'Kathmandu', 20000.00)\n",
        "            \"\"\")\n",
        "\n",
        "conn.commit()\n"
      ],
      "metadata": {
        "colab": {
          "base_uri": "https://localhost:8080/"
        },
        "id": "hdcI69h2KSC_",
        "outputId": "197f2667-ecfd-40b7-9a18-1ae3bc7b9358"
      },
      "execution_count": null,
      "outputs": [
        {
          "output_type": "stream",
          "name": "stdout",
          "text": [
            "Opened database successfully\n"
          ]
        }
      ]
    },
    {
      "cell_type": "code",
      "source": [
        "conn.execute(\"\"\" INSERT INTO\n",
        "            employee (ID,NAME,AGE,SALARY) VALUES (2, 'SHYAM', 33, 10000)\n",
        "            \"\"\")\n",
        "conn.commit()"
      ],
      "metadata": {
        "colab": {
          "base_uri": "https://localhost:8080/",
          "height": 217
        },
        "id": "uhmqqvWzMfgE",
        "outputId": "99625b8c-055b-4f1f-e910-1cbaf5624280"
      },
      "execution_count": null,
      "outputs": [
        {
          "output_type": "error",
          "ename": "OperationalError",
          "evalue": "ignored",
          "traceback": [
            "\u001b[0;31m---------------------------------------------------------------------------\u001b[0m",
            "\u001b[0;31mOperationalError\u001b[0m                          Traceback (most recent call last)",
            "\u001b[0;32m<ipython-input-8-01f26ccb7d69>\u001b[0m in \u001b[0;36m<cell line: 1>\u001b[0;34m()\u001b[0m\n\u001b[0;32m----> 1\u001b[0;31m conn.execute(\"\"\" INSERT INTO\n\u001b[0m\u001b[1;32m      2\u001b[0m             \u001b[0memployee\u001b[0m \u001b[0;34m(\u001b[0m\u001b[0mID\u001b[0m\u001b[0;34m,\u001b[0m\u001b[0mNAME\u001b[0m\u001b[0;34m,\u001b[0m\u001b[0mAGE\u001b[0m\u001b[0;34m,\u001b[0m\u001b[0mSALARY\u001b[0m\u001b[0;34m)\u001b[0m \u001b[0mVALUES\u001b[0m \u001b[0;34m(\u001b[0m\u001b[0;36m2\u001b[0m\u001b[0;34m,\u001b[0m \u001b[0;34m'SHYAM'\u001b[0m\u001b[0;34m,\u001b[0m \u001b[0;36m33\u001b[0m\u001b[0;34m,\u001b[0m \u001b[0;36m10000\u001b[0m\u001b[0;34m)\u001b[0m\u001b[0;34m\u001b[0m\u001b[0;34m\u001b[0m\u001b[0m\n\u001b[1;32m      3\u001b[0m             \"\"\")\n\u001b[1;32m      4\u001b[0m \u001b[0mconn\u001b[0m\u001b[0;34m.\u001b[0m\u001b[0mcommit\u001b[0m\u001b[0;34m(\u001b[0m\u001b[0;34m)\u001b[0m\u001b[0;34m\u001b[0m\u001b[0;34m\u001b[0m\u001b[0m\n",
            "\u001b[0;31mOperationalError\u001b[0m: database is locked"
          ]
        }
      ]
    },
    {
      "cell_type": "code",
      "source": [
        "conn.execute(\"\"\" INSERT INTO\n",
        "            student (ID,NAME,AGE,SALARY) VALUES (2, 'SHY', 32, 10000)\n",
        "            \"\"\")\n",
        "conn.commit()"
      ],
      "metadata": {
        "id": "T5LFwWSIRUT3"
      },
      "execution_count": null,
      "outputs": []
    },
    {
      "cell_type": "code",
      "source": [
        "conn.execute(\"UPDATE student set SALARY = 25000.00 where ID = 2\")\n",
        "conn.commit()"
      ],
      "metadata": {
        "id": "XlP0SV0gVSs0"
      },
      "execution_count": null,
      "outputs": []
    },
    {
      "cell_type": "code",
      "source": [
        "conn.execute(\"UPDATE student set address = 'budanilkantha' where ID = 1\")\n",
        "conn.commit()"
      ],
      "metadata": {
        "id": "4zmlCQdQWOHv"
      },
      "execution_count": null,
      "outputs": []
    },
    {
      "cell_type": "code",
      "source": [],
      "metadata": {
        "id": "CDoS4wT-W1AA"
      },
      "execution_count": null,
      "outputs": []
    },
    {
      "cell_type": "code",
      "source": [
        "conn.execute(\"DELETE FROM student where name = 'SHY'\")\n",
        "conn.commit()\n",
        "conn.close()"
      ],
      "metadata": {
        "id": "NvQtvmWLW1GC"
      },
      "execution_count": null,
      "outputs": []
    },
    {
      "cell_type": "code",
      "source": [
        "a = int(input(\"Enter number 1: \"))\n",
        "b = int(input(\"enter number 2: \"))\n",
        "\n",
        "\n",
        "try:\n",
        "    division = a/b\n",
        "    print(f'answer is: {division}')\n",
        "except Exception as e:\n",
        "    print('execution occured: ', e)\n",
        "\n",
        "print('hello ord')"
      ],
      "metadata": {
        "colab": {
          "base_uri": "https://localhost:8080/",
          "height": 380
        },
        "id": "RgcLYaFva8YG",
        "outputId": "79efd1de-c565-4727-f435-de5f94718966"
      },
      "execution_count": 2,
      "outputs": [
        {
          "output_type": "error",
          "ename": "KeyboardInterrupt",
          "evalue": "ignored",
          "traceback": [
            "\u001b[0;31m---------------------------------------------------------------------------\u001b[0m",
            "\u001b[0;31mKeyboardInterrupt\u001b[0m                         Traceback (most recent call last)",
            "\u001b[0;32m<ipython-input-2-f6f547d01bca>\u001b[0m in \u001b[0;36m<cell line: 1>\u001b[0;34m()\u001b[0m\n\u001b[0;32m----> 1\u001b[0;31m \u001b[0ma\u001b[0m \u001b[0;34m=\u001b[0m \u001b[0mint\u001b[0m\u001b[0;34m(\u001b[0m\u001b[0minput\u001b[0m\u001b[0;34m(\u001b[0m\u001b[0;34m\"Enter number 1: \"\u001b[0m\u001b[0;34m)\u001b[0m\u001b[0;34m)\u001b[0m\u001b[0;34m\u001b[0m\u001b[0;34m\u001b[0m\u001b[0m\n\u001b[0m\u001b[1;32m      2\u001b[0m \u001b[0mb\u001b[0m \u001b[0;34m=\u001b[0m \u001b[0mint\u001b[0m\u001b[0;34m(\u001b[0m\u001b[0minput\u001b[0m\u001b[0;34m(\u001b[0m\u001b[0;34m\"enter number 2: \"\u001b[0m\u001b[0;34m)\u001b[0m\u001b[0;34m)\u001b[0m\u001b[0;34m\u001b[0m\u001b[0;34m\u001b[0m\u001b[0m\n\u001b[1;32m      3\u001b[0m \u001b[0;34m\u001b[0m\u001b[0m\n\u001b[1;32m      4\u001b[0m \u001b[0;34m\u001b[0m\u001b[0m\n\u001b[1;32m      5\u001b[0m \u001b[0;32mtry\u001b[0m\u001b[0;34m:\u001b[0m\u001b[0;34m\u001b[0m\u001b[0;34m\u001b[0m\u001b[0m\n",
            "\u001b[0;32m/usr/local/lib/python3.10/dist-packages/ipykernel/kernelbase.py\u001b[0m in \u001b[0;36mraw_input\u001b[0;34m(self, prompt)\u001b[0m\n\u001b[1;32m    849\u001b[0m                 \u001b[0;34m\"raw_input was called, but this frontend does not support input requests.\"\u001b[0m\u001b[0;34m\u001b[0m\u001b[0;34m\u001b[0m\u001b[0m\n\u001b[1;32m    850\u001b[0m             )\n\u001b[0;32m--> 851\u001b[0;31m         return self._input_request(str(prompt),\n\u001b[0m\u001b[1;32m    852\u001b[0m             \u001b[0mself\u001b[0m\u001b[0;34m.\u001b[0m\u001b[0m_parent_ident\u001b[0m\u001b[0;34m,\u001b[0m\u001b[0;34m\u001b[0m\u001b[0;34m\u001b[0m\u001b[0m\n\u001b[1;32m    853\u001b[0m             \u001b[0mself\u001b[0m\u001b[0;34m.\u001b[0m\u001b[0m_parent_header\u001b[0m\u001b[0;34m,\u001b[0m\u001b[0;34m\u001b[0m\u001b[0;34m\u001b[0m\u001b[0m\n",
            "\u001b[0;32m/usr/local/lib/python3.10/dist-packages/ipykernel/kernelbase.py\u001b[0m in \u001b[0;36m_input_request\u001b[0;34m(self, prompt, ident, parent, password)\u001b[0m\n\u001b[1;32m    893\u001b[0m             \u001b[0;32mexcept\u001b[0m \u001b[0mKeyboardInterrupt\u001b[0m\u001b[0;34m:\u001b[0m\u001b[0;34m\u001b[0m\u001b[0;34m\u001b[0m\u001b[0m\n\u001b[1;32m    894\u001b[0m                 \u001b[0;31m# re-raise KeyboardInterrupt, to truncate traceback\u001b[0m\u001b[0;34m\u001b[0m\u001b[0;34m\u001b[0m\u001b[0m\n\u001b[0;32m--> 895\u001b[0;31m                 \u001b[0;32mraise\u001b[0m \u001b[0mKeyboardInterrupt\u001b[0m\u001b[0;34m(\u001b[0m\u001b[0;34m\"Interrupted by user\"\u001b[0m\u001b[0;34m)\u001b[0m \u001b[0;32mfrom\u001b[0m \u001b[0;32mNone\u001b[0m\u001b[0;34m\u001b[0m\u001b[0;34m\u001b[0m\u001b[0m\n\u001b[0m\u001b[1;32m    896\u001b[0m             \u001b[0;32mexcept\u001b[0m \u001b[0mException\u001b[0m \u001b[0;32mas\u001b[0m \u001b[0me\u001b[0m\u001b[0;34m:\u001b[0m\u001b[0;34m\u001b[0m\u001b[0;34m\u001b[0m\u001b[0m\n\u001b[1;32m    897\u001b[0m                 \u001b[0mself\u001b[0m\u001b[0;34m.\u001b[0m\u001b[0mlog\u001b[0m\u001b[0;34m.\u001b[0m\u001b[0mwarning\u001b[0m\u001b[0;34m(\u001b[0m\u001b[0;34m\"Invalid Message:\"\u001b[0m\u001b[0;34m,\u001b[0m \u001b[0mexc_info\u001b[0m\u001b[0;34m=\u001b[0m\u001b[0;32mTrue\u001b[0m\u001b[0;34m)\u001b[0m\u001b[0;34m\u001b[0m\u001b[0;34m\u001b[0m\u001b[0m\n",
            "\u001b[0;31mKeyboardInterrupt\u001b[0m: Interrupted by user"
          ]
        }
      ]
    },
    {
      "cell_type": "code",
      "source": [
        "try:\n",
        "    a = int(input(\"Enter number 1: \"))\n",
        "    b = int(input(\"enter number 2: \"))\n",
        "\n",
        "    division = a/b #if b = 0, ZeroDivisionError Exception\n",
        "\n",
        "except ValueError:\n",
        "    print(\"\\n !!!!! cannot type cast string to integer. PLease enter only integer!!!!\")\n",
        "\n",
        "except ZeroDivisionError:\n",
        "    print('Divison error occured')\n",
        "\n",
        "except Exception as e:\n",
        "    print('Exception ocuured. Exception name is :', e)\n",
        "\n",
        "print('program contonue')"
      ],
      "metadata": {
        "colab": {
          "base_uri": "https://localhost:8080/",
          "height": 380
        },
        "id": "3Hm-adztWOTd",
        "outputId": "6a5fed7d-fd5d-4a5a-ec1d-fbf8d39161e9"
      },
      "execution_count": 5,
      "outputs": [
        {
          "output_type": "error",
          "ename": "KeyboardInterrupt",
          "evalue": "ignored",
          "traceback": [
            "\u001b[0;31m---------------------------------------------------------------------------\u001b[0m",
            "\u001b[0;31mKeyboardInterrupt\u001b[0m                         Traceback (most recent call last)",
            "\u001b[0;32m<ipython-input-5-9c9e3209f947>\u001b[0m in \u001b[0;36m<cell line: 1>\u001b[0;34m()\u001b[0m\n\u001b[1;32m      1\u001b[0m \u001b[0;32mtry\u001b[0m\u001b[0;34m:\u001b[0m\u001b[0;34m\u001b[0m\u001b[0;34m\u001b[0m\u001b[0m\n\u001b[0;32m----> 2\u001b[0;31m     \u001b[0ma\u001b[0m \u001b[0;34m=\u001b[0m \u001b[0mint\u001b[0m\u001b[0;34m(\u001b[0m\u001b[0minput\u001b[0m\u001b[0;34m(\u001b[0m\u001b[0;34m\"Enter number 1: \"\u001b[0m\u001b[0;34m)\u001b[0m\u001b[0;34m)\u001b[0m\u001b[0;34m\u001b[0m\u001b[0;34m\u001b[0m\u001b[0m\n\u001b[0m\u001b[1;32m      3\u001b[0m     \u001b[0mb\u001b[0m \u001b[0;34m=\u001b[0m \u001b[0mint\u001b[0m\u001b[0;34m(\u001b[0m\u001b[0minput\u001b[0m\u001b[0;34m(\u001b[0m\u001b[0;34m\"enter number 2: \"\u001b[0m\u001b[0;34m)\u001b[0m\u001b[0;34m)\u001b[0m\u001b[0;34m\u001b[0m\u001b[0;34m\u001b[0m\u001b[0m\n\u001b[1;32m      4\u001b[0m \u001b[0;34m\u001b[0m\u001b[0m\n\u001b[1;32m      5\u001b[0m     \u001b[0mdivision\u001b[0m \u001b[0;34m=\u001b[0m \u001b[0ma\u001b[0m\u001b[0;34m/\u001b[0m\u001b[0mb\u001b[0m \u001b[0;31m#if b = 0, ZeroDivisionError Exception\u001b[0m\u001b[0;34m\u001b[0m\u001b[0;34m\u001b[0m\u001b[0m\n",
            "\u001b[0;32m/usr/local/lib/python3.10/dist-packages/ipykernel/kernelbase.py\u001b[0m in \u001b[0;36mraw_input\u001b[0;34m(self, prompt)\u001b[0m\n\u001b[1;32m    849\u001b[0m                 \u001b[0;34m\"raw_input was called, but this frontend does not support input requests.\"\u001b[0m\u001b[0;34m\u001b[0m\u001b[0;34m\u001b[0m\u001b[0m\n\u001b[1;32m    850\u001b[0m             )\n\u001b[0;32m--> 851\u001b[0;31m         return self._input_request(str(prompt),\n\u001b[0m\u001b[1;32m    852\u001b[0m             \u001b[0mself\u001b[0m\u001b[0;34m.\u001b[0m\u001b[0m_parent_ident\u001b[0m\u001b[0;34m,\u001b[0m\u001b[0;34m\u001b[0m\u001b[0;34m\u001b[0m\u001b[0m\n\u001b[1;32m    853\u001b[0m             \u001b[0mself\u001b[0m\u001b[0;34m.\u001b[0m\u001b[0m_parent_header\u001b[0m\u001b[0;34m,\u001b[0m\u001b[0;34m\u001b[0m\u001b[0;34m\u001b[0m\u001b[0m\n",
            "\u001b[0;32m/usr/local/lib/python3.10/dist-packages/ipykernel/kernelbase.py\u001b[0m in \u001b[0;36m_input_request\u001b[0;34m(self, prompt, ident, parent, password)\u001b[0m\n\u001b[1;32m    893\u001b[0m             \u001b[0;32mexcept\u001b[0m \u001b[0mKeyboardInterrupt\u001b[0m\u001b[0;34m:\u001b[0m\u001b[0;34m\u001b[0m\u001b[0;34m\u001b[0m\u001b[0m\n\u001b[1;32m    894\u001b[0m                 \u001b[0;31m# re-raise KeyboardInterrupt, to truncate traceback\u001b[0m\u001b[0;34m\u001b[0m\u001b[0;34m\u001b[0m\u001b[0m\n\u001b[0;32m--> 895\u001b[0;31m                 \u001b[0;32mraise\u001b[0m \u001b[0mKeyboardInterrupt\u001b[0m\u001b[0;34m(\u001b[0m\u001b[0;34m\"Interrupted by user\"\u001b[0m\u001b[0;34m)\u001b[0m \u001b[0;32mfrom\u001b[0m \u001b[0;32mNone\u001b[0m\u001b[0;34m\u001b[0m\u001b[0;34m\u001b[0m\u001b[0m\n\u001b[0m\u001b[1;32m    896\u001b[0m             \u001b[0;32mexcept\u001b[0m \u001b[0mException\u001b[0m \u001b[0;32mas\u001b[0m \u001b[0me\u001b[0m\u001b[0;34m:\u001b[0m\u001b[0;34m\u001b[0m\u001b[0;34m\u001b[0m\u001b[0m\n\u001b[1;32m    897\u001b[0m                 \u001b[0mself\u001b[0m\u001b[0;34m.\u001b[0m\u001b[0mlog\u001b[0m\u001b[0;34m.\u001b[0m\u001b[0mwarning\u001b[0m\u001b[0;34m(\u001b[0m\u001b[0;34m\"Invalid Message:\"\u001b[0m\u001b[0;34m,\u001b[0m \u001b[0mexc_info\u001b[0m\u001b[0;34m=\u001b[0m\u001b[0;32mTrue\u001b[0m\u001b[0;34m)\u001b[0m\u001b[0;34m\u001b[0m\u001b[0;34m\u001b[0m\u001b[0m\n",
            "\u001b[0;31mKeyboardInterrupt\u001b[0m: Interrupted by user"
          ]
        }
      ]
    },
    {
      "cell_type": "code",
      "source": [
        "a = 10\n",
        "b = 10\n",
        "\n",
        "try:\n",
        "    division = a/b\n",
        "\n",
        "except ZeroDivisionError:\n",
        "    print('from except block')\n",
        "    print('cannot divide by zero')\n",
        "\n",
        "else:\n",
        "    print('no exception, from else block')\n",
        "    print(f'{a}/{b} = {division}')\n"
      ],
      "metadata": {
        "colab": {
          "base_uri": "https://localhost:8080/"
        },
        "id": "8PoRGZuAZHQg",
        "outputId": "55c21f02-5620-4c42-b17d-99f1c3cc08f7"
      },
      "execution_count": 7,
      "outputs": [
        {
          "output_type": "stream",
          "name": "stdout",
          "text": [
            "no exception, from else block\n",
            "10/10 = 1.0\n"
          ]
        }
      ]
    },
    {
      "cell_type": "code",
      "source": [
        "try:\n",
        "    num = int(input(\"Enter a nunber: \"))\n",
        "    result = 10 /num\n",
        "    print(\"Result:\", result)\n",
        "\n",
        "except ValueError:\n",
        "    print('Invalid input! Please enter a valid number.')\n",
        "\n",
        "except ZeroDivisionError:\n",
        "    print('Cannot divide by zero')\n",
        "\n",
        "finally:\n",
        "    print('program execution completed')"
      ],
      "metadata": {
        "colab": {
          "base_uri": "https://localhost:8080/"
        },
        "id": "Itmu2bbNbKno",
        "outputId": "22f5310c-083a-44ee-db4a-2f02bd5b2a43"
      },
      "execution_count": 8,
      "outputs": [
        {
          "output_type": "stream",
          "name": "stdout",
          "text": [
            "Enter a nunber: abc\n",
            "Invalid input! Please enter a valid number.\n",
            "program execution completed\n"
          ]
        }
      ]
    },
    {
      "cell_type": "code",
      "source": [
        "def calculate_square_root(number):\n",
        "    if number < 0 :\n",
        "        raise ValueError(\"cannot calculate sqaure root of negative number\")\n",
        "    else:\n",
        "        return number ** 0.5\n",
        "\n",
        "num = -2\n",
        "try:\n",
        "    result = calculate_square_root(num)\n",
        "except ValueError as e:\n",
        "    print(\"ValueError: \", e)"
      ],
      "metadata": {
        "colab": {
          "base_uri": "https://localhost:8080/"
        },
        "id": "PqCjlDE7dnqz",
        "outputId": "c4519462-e141-4383-bbd6-cb05e56c13af"
      },
      "execution_count": 14,
      "outputs": [
        {
          "output_type": "stream",
          "name": "stdout",
          "text": [
            "ValueError:  cannot calculate sqaure root of negative number\n"
          ]
        }
      ]
    }
  ]
}